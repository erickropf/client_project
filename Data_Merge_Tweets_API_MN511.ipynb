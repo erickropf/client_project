{
 "cells": [
  {
   "cell_type": "markdown",
   "metadata": {},
   "source": [
    "# Import Libraries"
   ]
  },
  {
   "cell_type": "code",
   "execution_count": 1,
   "metadata": {},
   "outputs": [],
   "source": [
    "import pandas as pd"
   ]
  },
  {
   "cell_type": "markdown",
   "metadata": {},
   "source": [
    "# Load csv"
   ]
  },
  {
   "cell_type": "code",
   "execution_count": 45,
   "metadata": {},
   "outputs": [],
   "source": [
    "tweets = pd.read_csv('./data/twitter_mn_official.csv')\n",
    "mn511 = pd.read_csv('./data/mn_511.csv')\n",
    "newsapi = pd.read_csv('./data/news_api.csv')"
   ]
  },
  {
   "cell_type": "markdown",
   "metadata": {},
   "source": [
    "# Inspect DataFrames"
   ]
  },
  {
   "cell_type": "markdown",
   "metadata": {},
   "source": [
    "### Twitter"
   ]
  },
  {
   "cell_type": "code",
   "execution_count": 46,
   "metadata": {},
   "outputs": [
    {
     "data": {
      "text/html": [
       "<div>\n",
       "<style scoped>\n",
       "    .dataframe tbody tr th:only-of-type {\n",
       "        vertical-align: middle;\n",
       "    }\n",
       "\n",
       "    .dataframe tbody tr th {\n",
       "        vertical-align: top;\n",
       "    }\n",
       "\n",
       "    .dataframe thead th {\n",
       "        text-align: right;\n",
       "    }\n",
       "</style>\n",
       "<table border=\"1\" class=\"dataframe\">\n",
       "  <thead>\n",
       "    <tr style=\"text-align: right;\">\n",
       "      <th></th>\n",
       "      <th>Unnamed: 0</th>\n",
       "      <th>date</th>\n",
       "      <th>geo</th>\n",
       "      <th>hashtags</th>\n",
       "      <th>text</th>\n",
       "      <th>type</th>\n",
       "      <th>username</th>\n",
       "    </tr>\n",
       "  </thead>\n",
       "  <tbody>\n",
       "    <tr>\n",
       "      <th>0</th>\n",
       "      <td>0</td>\n",
       "      <td>2019-04-12 12:40:24+00:00</td>\n",
       "      <td>NaN</td>\n",
       "      <td>NaN</td>\n",
       "      <td>Crash at Hwy 12/25 south of Buffalo. Traffic i...</td>\n",
       "      <td>official</td>\n",
       "      <td>MnDOTcentral</td>\n",
       "    </tr>\n",
       "    <tr>\n",
       "      <th>1</th>\n",
       "      <td>1</td>\n",
       "      <td>2019-04-12 00:05:20+00:00</td>\n",
       "      <td>NaN</td>\n",
       "      <td>NaN</td>\n",
       "      <td>WB I-94, west of Sauk Centre- closed due to du...</td>\n",
       "      <td>official</td>\n",
       "      <td>MnDOTcentral</td>\n",
       "    </tr>\n",
       "    <tr>\n",
       "      <th>2</th>\n",
       "      <td>2</td>\n",
       "      <td>2019-04-11 22:30:44+00:00</td>\n",
       "      <td>NaN</td>\n",
       "      <td>NaN</td>\n",
       "      <td>No travel advised on Hwy 169 along the west si...</td>\n",
       "      <td>official</td>\n",
       "      <td>MnDOTcentral</td>\n",
       "    </tr>\n",
       "    <tr>\n",
       "      <th>3</th>\n",
       "      <td>3</td>\n",
       "      <td>2019-04-11 22:17:09+00:00</td>\n",
       "      <td>NaN</td>\n",
       "      <td>#Stearns #centralMN</td>\n",
       "      <td>No Travel Advised has been expanded to include...</td>\n",
       "      <td>official</td>\n",
       "      <td>MnDOTcentral</td>\n",
       "    </tr>\n",
       "    <tr>\n",
       "      <th>4</th>\n",
       "      <td>4</td>\n",
       "      <td>2019-04-11 19:49:47+00:00</td>\n",
       "      <td>NaN</td>\n",
       "      <td>NaN</td>\n",
       "      <td>No Travel Advisory issued for I-94 through @St...</td>\n",
       "      <td>official</td>\n",
       "      <td>MnDOTcentral</td>\n",
       "    </tr>\n",
       "  </tbody>\n",
       "</table>\n",
       "</div>"
      ],
      "text/plain": [
       "   Unnamed: 0                       date  geo             hashtags  \\\n",
       "0           0  2019-04-12 12:40:24+00:00  NaN                  NaN   \n",
       "1           1  2019-04-12 00:05:20+00:00  NaN                  NaN   \n",
       "2           2  2019-04-11 22:30:44+00:00  NaN                  NaN   \n",
       "3           3  2019-04-11 22:17:09+00:00  NaN  #Stearns #centralMN   \n",
       "4           4  2019-04-11 19:49:47+00:00  NaN                  NaN   \n",
       "\n",
       "                                                text      type      username  \n",
       "0  Crash at Hwy 12/25 south of Buffalo. Traffic i...  official  MnDOTcentral  \n",
       "1  WB I-94, west of Sauk Centre- closed due to du...  official  MnDOTcentral  \n",
       "2  No travel advised on Hwy 169 along the west si...  official  MnDOTcentral  \n",
       "3  No Travel Advised has been expanded to include...  official  MnDOTcentral  \n",
       "4  No Travel Advisory issued for I-94 through @St...  official  MnDOTcentral  "
      ]
     },
     "execution_count": 46,
     "metadata": {},
     "output_type": "execute_result"
    }
   ],
   "source": [
    "tweets.head()"
   ]
  },
  {
   "cell_type": "code",
   "execution_count": 47,
   "metadata": {},
   "outputs": [
    {
     "data": {
      "text/html": [
       "<div>\n",
       "<style scoped>\n",
       "    .dataframe tbody tr th:only-of-type {\n",
       "        vertical-align: middle;\n",
       "    }\n",
       "\n",
       "    .dataframe tbody tr th {\n",
       "        vertical-align: top;\n",
       "    }\n",
       "\n",
       "    .dataframe thead th {\n",
       "        text-align: right;\n",
       "    }\n",
       "</style>\n",
       "<table border=\"1\" class=\"dataframe\">\n",
       "  <thead>\n",
       "    <tr style=\"text-align: right;\">\n",
       "      <th></th>\n",
       "      <th>date</th>\n",
       "      <th>hashtags</th>\n",
       "      <th>text</th>\n",
       "      <th>username</th>\n",
       "    </tr>\n",
       "  </thead>\n",
       "  <tbody>\n",
       "    <tr>\n",
       "      <th>0</th>\n",
       "      <td>2019-04-12 12:40:24+00:00</td>\n",
       "      <td>NaN</td>\n",
       "      <td>Crash at Hwy 12/25 south of Buffalo. Traffic i...</td>\n",
       "      <td>MnDOTcentral</td>\n",
       "    </tr>\n",
       "    <tr>\n",
       "      <th>1</th>\n",
       "      <td>2019-04-12 00:05:20+00:00</td>\n",
       "      <td>NaN</td>\n",
       "      <td>WB I-94, west of Sauk Centre- closed due to du...</td>\n",
       "      <td>MnDOTcentral</td>\n",
       "    </tr>\n",
       "    <tr>\n",
       "      <th>2</th>\n",
       "      <td>2019-04-11 22:30:44+00:00</td>\n",
       "      <td>NaN</td>\n",
       "      <td>No travel advised on Hwy 169 along the west si...</td>\n",
       "      <td>MnDOTcentral</td>\n",
       "    </tr>\n",
       "    <tr>\n",
       "      <th>3</th>\n",
       "      <td>2019-04-11 22:17:09+00:00</td>\n",
       "      <td>#Stearns #centralMN</td>\n",
       "      <td>No Travel Advised has been expanded to include...</td>\n",
       "      <td>MnDOTcentral</td>\n",
       "    </tr>\n",
       "    <tr>\n",
       "      <th>4</th>\n",
       "      <td>2019-04-11 19:49:47+00:00</td>\n",
       "      <td>NaN</td>\n",
       "      <td>No Travel Advisory issued for I-94 through @St...</td>\n",
       "      <td>MnDOTcentral</td>\n",
       "    </tr>\n",
       "  </tbody>\n",
       "</table>\n",
       "</div>"
      ],
      "text/plain": [
       "                        date             hashtags  \\\n",
       "0  2019-04-12 12:40:24+00:00                  NaN   \n",
       "1  2019-04-12 00:05:20+00:00                  NaN   \n",
       "2  2019-04-11 22:30:44+00:00                  NaN   \n",
       "3  2019-04-11 22:17:09+00:00  #Stearns #centralMN   \n",
       "4  2019-04-11 19:49:47+00:00                  NaN   \n",
       "\n",
       "                                                text      username  \n",
       "0  Crash at Hwy 12/25 south of Buffalo. Traffic i...  MnDOTcentral  \n",
       "1  WB I-94, west of Sauk Centre- closed due to du...  MnDOTcentral  \n",
       "2  No travel advised on Hwy 169 along the west si...  MnDOTcentral  \n",
       "3  No Travel Advised has been expanded to include...  MnDOTcentral  \n",
       "4  No Travel Advisory issued for I-94 through @St...  MnDOTcentral  "
      ]
     },
     "execution_count": 47,
     "metadata": {},
     "output_type": "execute_result"
    }
   ],
   "source": [
    "tweets.drop(['geo', 'Unnamed: 0', 'type'], axis=1, inplace=True)\n",
    "tweets.head()"
   ]
  },
  {
   "cell_type": "markdown",
   "metadata": {},
   "source": [
    "### MN511"
   ]
  },
  {
   "cell_type": "code",
   "execution_count": 48,
   "metadata": {},
   "outputs": [
    {
     "data": {
      "text/html": [
       "<div>\n",
       "<style scoped>\n",
       "    .dataframe tbody tr th:only-of-type {\n",
       "        vertical-align: middle;\n",
       "    }\n",
       "\n",
       "    .dataframe tbody tr th {\n",
       "        vertical-align: top;\n",
       "    }\n",
       "\n",
       "    .dataframe thead th {\n",
       "        text-align: right;\n",
       "    }\n",
       "</style>\n",
       "<table border=\"1\" class=\"dataframe\">\n",
       "  <thead>\n",
       "    <tr style=\"text-align: right;\">\n",
       "      <th></th>\n",
       "      <th>Unnamed: 0</th>\n",
       "      <th>Header</th>\n",
       "      <th>Text</th>\n",
       "      <th>locations_and_times</th>\n",
       "    </tr>\n",
       "  </thead>\n",
       "  <tbody>\n",
       "    <tr>\n",
       "      <th>0</th>\n",
       "      <td>0</td>\n",
       "      <td>MN 19: Flooding.</td>\n",
       "      <td>Between MN 93; North 5th Street and US 169 (ne...</td>\n",
       "      <td>[('North 5th Street', 'GPE'), ('Henderson', 'G...</td>\n",
       "    </tr>\n",
       "    <tr>\n",
       "      <th>1</th>\n",
       "      <td>1</td>\n",
       "      <td>MN 93: Flooding.</td>\n",
       "      <td>Between US 169 (Le Sueur) and MN 19; North 5th...</td>\n",
       "      <td>[('US', 'GPE')]</td>\n",
       "    </tr>\n",
       "    <tr>\n",
       "      <th>2</th>\n",
       "      <td>2</td>\n",
       "      <td>MN 95: Road closed.</td>\n",
       "      <td>At Fern Street North (Cambridge). The road is ...</td>\n",
       "      <td>[]</td>\n",
       "    </tr>\n",
       "    <tr>\n",
       "      <th>3</th>\n",
       "      <td>3</td>\n",
       "      <td>US 75 in both directions: Flooding.</td>\n",
       "      <td>Between 220th Avenue and 230th Avenue (Halstad...</td>\n",
       "      <td>[]</td>\n",
       "    </tr>\n",
       "    <tr>\n",
       "      <th>4</th>\n",
       "      <td>4</td>\n",
       "      <td>MN 1: Flooding.</td>\n",
       "      <td>Between North Dakota State Line (Oslo) and 470...</td>\n",
       "      <td>[('North Dakota', 'GPE'), ('Oslo', 'GPE'), ('A...</td>\n",
       "    </tr>\n",
       "  </tbody>\n",
       "</table>\n",
       "</div>"
      ],
      "text/plain": [
       "   Unnamed: 0                               Header  \\\n",
       "0           0                     MN 19: Flooding.   \n",
       "1           1                     MN 93: Flooding.   \n",
       "2           2                  MN 95: Road closed.   \n",
       "3           3  US 75 in both directions: Flooding.   \n",
       "4           4                      MN 1: Flooding.   \n",
       "\n",
       "                                                Text  \\\n",
       "0  Between MN 93; North 5th Street and US 169 (ne...   \n",
       "1  Between US 169 (Le Sueur) and MN 19; North 5th...   \n",
       "2  At Fern Street North (Cambridge). The road is ...   \n",
       "3  Between 220th Avenue and 230th Avenue (Halstad...   \n",
       "4  Between North Dakota State Line (Oslo) and 470...   \n",
       "\n",
       "                                 locations_and_times  \n",
       "0  [('North 5th Street', 'GPE'), ('Henderson', 'G...  \n",
       "1                                    [('US', 'GPE')]  \n",
       "2                                                 []  \n",
       "3                                                 []  \n",
       "4  [('North Dakota', 'GPE'), ('Oslo', 'GPE'), ('A...  "
      ]
     },
     "execution_count": 48,
     "metadata": {},
     "output_type": "execute_result"
    }
   ],
   "source": [
    "mn511.head()"
   ]
  },
  {
   "cell_type": "code",
   "execution_count": 49,
   "metadata": {},
   "outputs": [],
   "source": [
    "mn511.drop(['Unnamed: 0'], axis=1, inplace=True)"
   ]
  },
  {
   "cell_type": "code",
   "execution_count": 50,
   "metadata": {},
   "outputs": [],
   "source": [
    "mn511['source'] = 'mn511'"
   ]
  },
  {
   "cell_type": "code",
   "execution_count": 51,
   "metadata": {},
   "outputs": [
    {
     "data": {
      "text/html": [
       "<div>\n",
       "<style scoped>\n",
       "    .dataframe tbody tr th:only-of-type {\n",
       "        vertical-align: middle;\n",
       "    }\n",
       "\n",
       "    .dataframe tbody tr th {\n",
       "        vertical-align: top;\n",
       "    }\n",
       "\n",
       "    .dataframe thead th {\n",
       "        text-align: right;\n",
       "    }\n",
       "</style>\n",
       "<table border=\"1\" class=\"dataframe\">\n",
       "  <thead>\n",
       "    <tr style=\"text-align: right;\">\n",
       "      <th></th>\n",
       "      <th>Header</th>\n",
       "      <th>Text</th>\n",
       "      <th>locations_and_times</th>\n",
       "      <th>source</th>\n",
       "    </tr>\n",
       "  </thead>\n",
       "  <tbody>\n",
       "    <tr>\n",
       "      <th>0</th>\n",
       "      <td>MN 19: Flooding.</td>\n",
       "      <td>Between MN 93; North 5th Street and US 169 (ne...</td>\n",
       "      <td>[('North 5th Street', 'GPE'), ('Henderson', 'G...</td>\n",
       "      <td>mn511</td>\n",
       "    </tr>\n",
       "    <tr>\n",
       "      <th>1</th>\n",
       "      <td>MN 93: Flooding.</td>\n",
       "      <td>Between US 169 (Le Sueur) and MN 19; North 5th...</td>\n",
       "      <td>[('US', 'GPE')]</td>\n",
       "      <td>mn511</td>\n",
       "    </tr>\n",
       "    <tr>\n",
       "      <th>2</th>\n",
       "      <td>MN 95: Road closed.</td>\n",
       "      <td>At Fern Street North (Cambridge). The road is ...</td>\n",
       "      <td>[]</td>\n",
       "      <td>mn511</td>\n",
       "    </tr>\n",
       "    <tr>\n",
       "      <th>3</th>\n",
       "      <td>US 75 in both directions: Flooding.</td>\n",
       "      <td>Between 220th Avenue and 230th Avenue (Halstad...</td>\n",
       "      <td>[]</td>\n",
       "      <td>mn511</td>\n",
       "    </tr>\n",
       "    <tr>\n",
       "      <th>4</th>\n",
       "      <td>MN 1: Flooding.</td>\n",
       "      <td>Between North Dakota State Line (Oslo) and 470...</td>\n",
       "      <td>[('North Dakota', 'GPE'), ('Oslo', 'GPE'), ('A...</td>\n",
       "      <td>mn511</td>\n",
       "    </tr>\n",
       "  </tbody>\n",
       "</table>\n",
       "</div>"
      ],
      "text/plain": [
       "                                Header  \\\n",
       "0                     MN 19: Flooding.   \n",
       "1                     MN 93: Flooding.   \n",
       "2                  MN 95: Road closed.   \n",
       "3  US 75 in both directions: Flooding.   \n",
       "4                      MN 1: Flooding.   \n",
       "\n",
       "                                                Text  \\\n",
       "0  Between MN 93; North 5th Street and US 169 (ne...   \n",
       "1  Between US 169 (Le Sueur) and MN 19; North 5th...   \n",
       "2  At Fern Street North (Cambridge). The road is ...   \n",
       "3  Between 220th Avenue and 230th Avenue (Halstad...   \n",
       "4  Between North Dakota State Line (Oslo) and 470...   \n",
       "\n",
       "                                 locations_and_times source  \n",
       "0  [('North 5th Street', 'GPE'), ('Henderson', 'G...  mn511  \n",
       "1                                    [('US', 'GPE')]  mn511  \n",
       "2                                                 []  mn511  \n",
       "3                                                 []  mn511  \n",
       "4  [('North Dakota', 'GPE'), ('Oslo', 'GPE'), ('A...  mn511  "
      ]
     },
     "execution_count": 51,
     "metadata": {},
     "output_type": "execute_result"
    }
   ],
   "source": [
    "mn511.head()"
   ]
  },
  {
   "cell_type": "markdown",
   "metadata": {},
   "source": [
    "### News API"
   ]
  },
  {
   "cell_type": "code",
   "execution_count": 52,
   "metadata": {},
   "outputs": [
    {
     "data": {
      "text/html": [
       "<div>\n",
       "<style scoped>\n",
       "    .dataframe tbody tr th:only-of-type {\n",
       "        vertical-align: middle;\n",
       "    }\n",
       "\n",
       "    .dataframe tbody tr th {\n",
       "        vertical-align: top;\n",
       "    }\n",
       "\n",
       "    .dataframe thead th {\n",
       "        text-align: right;\n",
       "    }\n",
       "</style>\n",
       "<table border=\"1\" class=\"dataframe\">\n",
       "  <thead>\n",
       "    <tr style=\"text-align: right;\">\n",
       "      <th></th>\n",
       "      <th>Unnamed: 0</th>\n",
       "      <th>publishedAt</th>\n",
       "      <th>content</th>\n",
       "      <th>url</th>\n",
       "      <th>locations_and_times</th>\n",
       "    </tr>\n",
       "  </thead>\n",
       "  <tbody>\n",
       "    <tr>\n",
       "      <th>0</th>\n",
       "      <td>0</td>\n",
       "      <td>2019-04-04T11:48:00Z</td>\n",
       "      <td>Spaceflight company SpaceX test-fired the engi...</td>\n",
       "      <td>https://gizmodo.com/spacex-successfully-test-f...</td>\n",
       "      <td>[('Wednesday', 'DATE'), ('Boca Chica', 'GPE'),...</td>\n",
       "    </tr>\n",
       "    <tr>\n",
       "      <th>1</th>\n",
       "      <td>1</td>\n",
       "      <td>2019-03-31T12:12:35Z</td>\n",
       "      <td>A forest fire in Burlington County has grown t...</td>\n",
       "      <td>https://news.yahoo.com/forest-fire-continues-b...</td>\n",
       "      <td>[('Burlington County', 'GPE')]</td>\n",
       "    </tr>\n",
       "    <tr>\n",
       "      <th>2</th>\n",
       "      <td>2</td>\n",
       "      <td>2019-04-07T06:36:00Z</td>\n",
       "      <td>The ban on civilian traffic on the national hi...</td>\n",
       "      <td>https://www.hindustantimes.com/india-news/two-...</td>\n",
       "      <td>[('Jammu', 'GPE'), ('Srinagar', 'GPE'), ('toda...</td>\n",
       "    </tr>\n",
       "    <tr>\n",
       "      <th>3</th>\n",
       "      <td>3</td>\n",
       "      <td>2019-04-06T22:24:00Z</td>\n",
       "      <td>Electricity has been mostly restored on Vancou...</td>\n",
       "      <td>https://www.timescolonist.com/news/local/power...</td>\n",
       "      <td>[('Vancouver Island', 'GPE')]</td>\n",
       "    </tr>\n",
       "    <tr>\n",
       "      <th>4</th>\n",
       "      <td>4</td>\n",
       "      <td>2019-04-07T20:06:52Z</td>\n",
       "      <td>Officials at Kruger National Park in South Afr...</td>\n",
       "      <td>https://www.npr.org/2019/04/07/710840965/suspe...</td>\n",
       "      <td>[('South Africa', 'GPE'), ('2016', 'DATE')]</td>\n",
       "    </tr>\n",
       "  </tbody>\n",
       "</table>\n",
       "</div>"
      ],
      "text/plain": [
       "   Unnamed: 0           publishedAt  \\\n",
       "0           0  2019-04-04T11:48:00Z   \n",
       "1           1  2019-03-31T12:12:35Z   \n",
       "2           2  2019-04-07T06:36:00Z   \n",
       "3           3  2019-04-06T22:24:00Z   \n",
       "4           4  2019-04-07T20:06:52Z   \n",
       "\n",
       "                                             content  \\\n",
       "0  Spaceflight company SpaceX test-fired the engi...   \n",
       "1  A forest fire in Burlington County has grown t...   \n",
       "2  The ban on civilian traffic on the national hi...   \n",
       "3  Electricity has been mostly restored on Vancou...   \n",
       "4  Officials at Kruger National Park in South Afr...   \n",
       "\n",
       "                                                 url  \\\n",
       "0  https://gizmodo.com/spacex-successfully-test-f...   \n",
       "1  https://news.yahoo.com/forest-fire-continues-b...   \n",
       "2  https://www.hindustantimes.com/india-news/two-...   \n",
       "3  https://www.timescolonist.com/news/local/power...   \n",
       "4  https://www.npr.org/2019/04/07/710840965/suspe...   \n",
       "\n",
       "                                 locations_and_times  \n",
       "0  [('Wednesday', 'DATE'), ('Boca Chica', 'GPE'),...  \n",
       "1                     [('Burlington County', 'GPE')]  \n",
       "2  [('Jammu', 'GPE'), ('Srinagar', 'GPE'), ('toda...  \n",
       "3                      [('Vancouver Island', 'GPE')]  \n",
       "4        [('South Africa', 'GPE'), ('2016', 'DATE')]  "
      ]
     },
     "execution_count": 52,
     "metadata": {},
     "output_type": "execute_result"
    }
   ],
   "source": [
    "newsapi.head()"
   ]
  },
  {
   "cell_type": "code",
   "execution_count": 53,
   "metadata": {
    "scrolled": true
   },
   "outputs": [
    {
     "data": {
      "text/html": [
       "<div>\n",
       "<style scoped>\n",
       "    .dataframe tbody tr th:only-of-type {\n",
       "        vertical-align: middle;\n",
       "    }\n",
       "\n",
       "    .dataframe tbody tr th {\n",
       "        vertical-align: top;\n",
       "    }\n",
       "\n",
       "    .dataframe thead th {\n",
       "        text-align: right;\n",
       "    }\n",
       "</style>\n",
       "<table border=\"1\" class=\"dataframe\">\n",
       "  <thead>\n",
       "    <tr style=\"text-align: right;\">\n",
       "      <th></th>\n",
       "      <th>publishedAt</th>\n",
       "      <th>content</th>\n",
       "      <th>locations_and_times</th>\n",
       "    </tr>\n",
       "  </thead>\n",
       "  <tbody>\n",
       "    <tr>\n",
       "      <th>0</th>\n",
       "      <td>2019-04-04T11:48:00Z</td>\n",
       "      <td>Spaceflight company SpaceX test-fired the engi...</td>\n",
       "      <td>[('Wednesday', 'DATE'), ('Boca Chica', 'GPE'),...</td>\n",
       "    </tr>\n",
       "    <tr>\n",
       "      <th>1</th>\n",
       "      <td>2019-03-31T12:12:35Z</td>\n",
       "      <td>A forest fire in Burlington County has grown t...</td>\n",
       "      <td>[('Burlington County', 'GPE')]</td>\n",
       "    </tr>\n",
       "    <tr>\n",
       "      <th>2</th>\n",
       "      <td>2019-04-07T06:36:00Z</td>\n",
       "      <td>The ban on civilian traffic on the national hi...</td>\n",
       "      <td>[('Jammu', 'GPE'), ('Srinagar', 'GPE'), ('toda...</td>\n",
       "    </tr>\n",
       "    <tr>\n",
       "      <th>3</th>\n",
       "      <td>2019-04-06T22:24:00Z</td>\n",
       "      <td>Electricity has been mostly restored on Vancou...</td>\n",
       "      <td>[('Vancouver Island', 'GPE')]</td>\n",
       "    </tr>\n",
       "    <tr>\n",
       "      <th>4</th>\n",
       "      <td>2019-04-07T20:06:52Z</td>\n",
       "      <td>Officials at Kruger National Park in South Afr...</td>\n",
       "      <td>[('South Africa', 'GPE'), ('2016', 'DATE')]</td>\n",
       "    </tr>\n",
       "  </tbody>\n",
       "</table>\n",
       "</div>"
      ],
      "text/plain": [
       "            publishedAt                                            content  \\\n",
       "0  2019-04-04T11:48:00Z  Spaceflight company SpaceX test-fired the engi...   \n",
       "1  2019-03-31T12:12:35Z  A forest fire in Burlington County has grown t...   \n",
       "2  2019-04-07T06:36:00Z  The ban on civilian traffic on the national hi...   \n",
       "3  2019-04-06T22:24:00Z  Electricity has been mostly restored on Vancou...   \n",
       "4  2019-04-07T20:06:52Z  Officials at Kruger National Park in South Afr...   \n",
       "\n",
       "                                 locations_and_times  \n",
       "0  [('Wednesday', 'DATE'), ('Boca Chica', 'GPE'),...  \n",
       "1                     [('Burlington County', 'GPE')]  \n",
       "2  [('Jammu', 'GPE'), ('Srinagar', 'GPE'), ('toda...  \n",
       "3                      [('Vancouver Island', 'GPE')]  \n",
       "4        [('South Africa', 'GPE'), ('2016', 'DATE')]  "
      ]
     },
     "execution_count": 53,
     "metadata": {},
     "output_type": "execute_result"
    }
   ],
   "source": [
    "newsapi.drop(['Unnamed: 0', 'url'], axis=1, inplace=True)\n",
    "newsapi.head()"
   ]
  },
  {
   "cell_type": "markdown",
   "metadata": {},
   "source": [
    "# Align all columns"
   ]
  },
  {
   "cell_type": "markdown",
   "metadata": {},
   "source": [
    "### Twitter"
   ]
  },
  {
   "cell_type": "code",
   "execution_count": 54,
   "metadata": {},
   "outputs": [
    {
     "data": {
      "text/plain": [
       "Index(['date', 'hashtags', 'text', 'username'], dtype='object')"
      ]
     },
     "execution_count": 54,
     "metadata": {},
     "output_type": "execute_result"
    }
   ],
   "source": [
    "tweets.columns"
   ]
  },
  {
   "cell_type": "code",
   "execution_count": 55,
   "metadata": {},
   "outputs": [
    {
     "data": {
      "text/html": [
       "<div>\n",
       "<style scoped>\n",
       "    .dataframe tbody tr th:only-of-type {\n",
       "        vertical-align: middle;\n",
       "    }\n",
       "\n",
       "    .dataframe tbody tr th {\n",
       "        vertical-align: top;\n",
       "    }\n",
       "\n",
       "    .dataframe thead th {\n",
       "        text-align: right;\n",
       "    }\n",
       "</style>\n",
       "<table border=\"1\" class=\"dataframe\">\n",
       "  <thead>\n",
       "    <tr style=\"text-align: right;\">\n",
       "      <th></th>\n",
       "      <th>date</th>\n",
       "      <th>keywords</th>\n",
       "      <th>text</th>\n",
       "      <th>source</th>\n",
       "    </tr>\n",
       "  </thead>\n",
       "  <tbody>\n",
       "    <tr>\n",
       "      <th>0</th>\n",
       "      <td>2019-04-12 12:40:24+00:00</td>\n",
       "      <td>NaN</td>\n",
       "      <td>Crash at Hwy 12/25 south of Buffalo. Traffic i...</td>\n",
       "      <td>MnDOTcentral</td>\n",
       "    </tr>\n",
       "  </tbody>\n",
       "</table>\n",
       "</div>"
      ],
      "text/plain": [
       "                        date keywords  \\\n",
       "0  2019-04-12 12:40:24+00:00      NaN   \n",
       "\n",
       "                                                text        source  \n",
       "0  Crash at Hwy 12/25 south of Buffalo. Traffic i...  MnDOTcentral  "
      ]
     },
     "execution_count": 55,
     "metadata": {},
     "output_type": "execute_result"
    }
   ],
   "source": [
    "new_columns_dict = {\n",
    "        'date':'date',\n",
    "        'hashtags': 'keywords',\n",
    "        'text': 'text',\n",
    "        'username': 'source'\n",
    "    }\n",
    "\n",
    "tweets.rename(columns=new_columns_dict, inplace=True)\n",
    "tweets.head(1)"
   ]
  },
  {
   "cell_type": "code",
   "execution_count": 56,
   "metadata": {},
   "outputs": [],
   "source": [
    "tweets['location'] = 'NA'"
   ]
  },
  {
   "cell_type": "code",
   "execution_count": 57,
   "metadata": {},
   "outputs": [
    {
     "data": {
      "text/html": [
       "<div>\n",
       "<style scoped>\n",
       "    .dataframe tbody tr th:only-of-type {\n",
       "        vertical-align: middle;\n",
       "    }\n",
       "\n",
       "    .dataframe tbody tr th {\n",
       "        vertical-align: top;\n",
       "    }\n",
       "\n",
       "    .dataframe thead th {\n",
       "        text-align: right;\n",
       "    }\n",
       "</style>\n",
       "<table border=\"1\" class=\"dataframe\">\n",
       "  <thead>\n",
       "    <tr style=\"text-align: right;\">\n",
       "      <th></th>\n",
       "      <th>date</th>\n",
       "      <th>text</th>\n",
       "      <th>keywords</th>\n",
       "      <th>location</th>\n",
       "      <th>source</th>\n",
       "    </tr>\n",
       "  </thead>\n",
       "  <tbody>\n",
       "    <tr>\n",
       "      <th>0</th>\n",
       "      <td>2019-04-12 12:40:24+00:00</td>\n",
       "      <td>Crash at Hwy 12/25 south of Buffalo. Traffic i...</td>\n",
       "      <td>NaN</td>\n",
       "      <td>NA</td>\n",
       "      <td>MnDOTcentral</td>\n",
       "    </tr>\n",
       "    <tr>\n",
       "      <th>1</th>\n",
       "      <td>2019-04-12 00:05:20+00:00</td>\n",
       "      <td>WB I-94, west of Sauk Centre- closed due to du...</td>\n",
       "      <td>NaN</td>\n",
       "      <td>NA</td>\n",
       "      <td>MnDOTcentral</td>\n",
       "    </tr>\n",
       "    <tr>\n",
       "      <th>2</th>\n",
       "      <td>2019-04-11 22:30:44+00:00</td>\n",
       "      <td>No travel advised on Hwy 169 along the west si...</td>\n",
       "      <td>NaN</td>\n",
       "      <td>NA</td>\n",
       "      <td>MnDOTcentral</td>\n",
       "    </tr>\n",
       "    <tr>\n",
       "      <th>3</th>\n",
       "      <td>2019-04-11 22:17:09+00:00</td>\n",
       "      <td>No Travel Advised has been expanded to include...</td>\n",
       "      <td>#Stearns #centralMN</td>\n",
       "      <td>NA</td>\n",
       "      <td>MnDOTcentral</td>\n",
       "    </tr>\n",
       "    <tr>\n",
       "      <th>4</th>\n",
       "      <td>2019-04-11 19:49:47+00:00</td>\n",
       "      <td>No Travel Advisory issued for I-94 through @St...</td>\n",
       "      <td>NaN</td>\n",
       "      <td>NA</td>\n",
       "      <td>MnDOTcentral</td>\n",
       "    </tr>\n",
       "  </tbody>\n",
       "</table>\n",
       "</div>"
      ],
      "text/plain": [
       "                        date  \\\n",
       "0  2019-04-12 12:40:24+00:00   \n",
       "1  2019-04-12 00:05:20+00:00   \n",
       "2  2019-04-11 22:30:44+00:00   \n",
       "3  2019-04-11 22:17:09+00:00   \n",
       "4  2019-04-11 19:49:47+00:00   \n",
       "\n",
       "                                                text             keywords  \\\n",
       "0  Crash at Hwy 12/25 south of Buffalo. Traffic i...                  NaN   \n",
       "1  WB I-94, west of Sauk Centre- closed due to du...                  NaN   \n",
       "2  No travel advised on Hwy 169 along the west si...                  NaN   \n",
       "3  No Travel Advised has been expanded to include...  #Stearns #centralMN   \n",
       "4  No Travel Advisory issued for I-94 through @St...                  NaN   \n",
       "\n",
       "  location        source  \n",
       "0       NA  MnDOTcentral  \n",
       "1       NA  MnDOTcentral  \n",
       "2       NA  MnDOTcentral  \n",
       "3       NA  MnDOTcentral  \n",
       "4       NA  MnDOTcentral  "
      ]
     },
     "execution_count": 57,
     "metadata": {},
     "output_type": "execute_result"
    }
   ],
   "source": [
    "tweets = tweets[['date','text', 'keywords', 'location', 'source']]\n",
    "tweets.head()"
   ]
  },
  {
   "cell_type": "markdown",
   "metadata": {},
   "source": [
    "### MN 511"
   ]
  },
  {
   "cell_type": "code",
   "execution_count": 58,
   "metadata": {},
   "outputs": [
    {
     "data": {
      "text/plain": [
       "Index(['Header', 'Text', 'locations_and_times', 'source'], dtype='object')"
      ]
     },
     "execution_count": 58,
     "metadata": {},
     "output_type": "execute_result"
    }
   ],
   "source": [
    "mn511.columns"
   ]
  },
  {
   "cell_type": "code",
   "execution_count": 59,
   "metadata": {},
   "outputs": [
    {
     "data": {
      "text/html": [
       "<div>\n",
       "<style scoped>\n",
       "    .dataframe tbody tr th:only-of-type {\n",
       "        vertical-align: middle;\n",
       "    }\n",
       "\n",
       "    .dataframe tbody tr th {\n",
       "        vertical-align: top;\n",
       "    }\n",
       "\n",
       "    .dataframe thead th {\n",
       "        text-align: right;\n",
       "    }\n",
       "</style>\n",
       "<table border=\"1\" class=\"dataframe\">\n",
       "  <thead>\n",
       "    <tr style=\"text-align: right;\">\n",
       "      <th></th>\n",
       "      <th>keywords</th>\n",
       "      <th>text</th>\n",
       "      <th>location</th>\n",
       "      <th>source</th>\n",
       "    </tr>\n",
       "  </thead>\n",
       "  <tbody>\n",
       "    <tr>\n",
       "      <th>0</th>\n",
       "      <td>MN 19: Flooding.</td>\n",
       "      <td>Between MN 93; North 5th Street and US 169 (ne...</td>\n",
       "      <td>[('North 5th Street', 'GPE'), ('Henderson', 'G...</td>\n",
       "      <td>mn511</td>\n",
       "    </tr>\n",
       "  </tbody>\n",
       "</table>\n",
       "</div>"
      ],
      "text/plain": [
       "           keywords                                               text  \\\n",
       "0  MN 19: Flooding.  Between MN 93; North 5th Street and US 169 (ne...   \n",
       "\n",
       "                                            location source  \n",
       "0  [('North 5th Street', 'GPE'), ('Henderson', 'G...  mn511  "
      ]
     },
     "execution_count": 59,
     "metadata": {},
     "output_type": "execute_result"
    }
   ],
   "source": [
    "new_columns_dict = {\n",
    "        'Header':'keywords',\n",
    "        'Text': 'text',\n",
    "        'source': 'source',\n",
    "        'locations_and_times': 'location'\n",
    "}\n",
    "\n",
    "mn511.rename(columns=new_columns_dict, inplace=True)\n",
    "mn511.head(1)"
   ]
  },
  {
   "cell_type": "code",
   "execution_count": 60,
   "metadata": {},
   "outputs": [],
   "source": [
    "mn511['date'] = 'date'\n",
    "mn511['keywords'] = 'NA'"
   ]
  },
  {
   "cell_type": "code",
   "execution_count": 61,
   "metadata": {},
   "outputs": [
    {
     "data": {
      "text/html": [
       "<div>\n",
       "<style scoped>\n",
       "    .dataframe tbody tr th:only-of-type {\n",
       "        vertical-align: middle;\n",
       "    }\n",
       "\n",
       "    .dataframe tbody tr th {\n",
       "        vertical-align: top;\n",
       "    }\n",
       "\n",
       "    .dataframe thead th {\n",
       "        text-align: right;\n",
       "    }\n",
       "</style>\n",
       "<table border=\"1\" class=\"dataframe\">\n",
       "  <thead>\n",
       "    <tr style=\"text-align: right;\">\n",
       "      <th></th>\n",
       "      <th>date</th>\n",
       "      <th>text</th>\n",
       "      <th>keywords</th>\n",
       "      <th>location</th>\n",
       "      <th>source</th>\n",
       "    </tr>\n",
       "  </thead>\n",
       "  <tbody>\n",
       "    <tr>\n",
       "      <th>0</th>\n",
       "      <td>date</td>\n",
       "      <td>Between MN 93; North 5th Street and US 169 (ne...</td>\n",
       "      <td>NA</td>\n",
       "      <td>[('North 5th Street', 'GPE'), ('Henderson', 'G...</td>\n",
       "      <td>mn511</td>\n",
       "    </tr>\n",
       "    <tr>\n",
       "      <th>1</th>\n",
       "      <td>date</td>\n",
       "      <td>Between US 169 (Le Sueur) and MN 19; North 5th...</td>\n",
       "      <td>NA</td>\n",
       "      <td>[('US', 'GPE')]</td>\n",
       "      <td>mn511</td>\n",
       "    </tr>\n",
       "    <tr>\n",
       "      <th>2</th>\n",
       "      <td>date</td>\n",
       "      <td>At Fern Street North (Cambridge). The road is ...</td>\n",
       "      <td>NA</td>\n",
       "      <td>[]</td>\n",
       "      <td>mn511</td>\n",
       "    </tr>\n",
       "    <tr>\n",
       "      <th>3</th>\n",
       "      <td>date</td>\n",
       "      <td>Between 220th Avenue and 230th Avenue (Halstad...</td>\n",
       "      <td>NA</td>\n",
       "      <td>[]</td>\n",
       "      <td>mn511</td>\n",
       "    </tr>\n",
       "    <tr>\n",
       "      <th>4</th>\n",
       "      <td>date</td>\n",
       "      <td>Between North Dakota State Line (Oslo) and 470...</td>\n",
       "      <td>NA</td>\n",
       "      <td>[('North Dakota', 'GPE'), ('Oslo', 'GPE'), ('A...</td>\n",
       "      <td>mn511</td>\n",
       "    </tr>\n",
       "  </tbody>\n",
       "</table>\n",
       "</div>"
      ],
      "text/plain": [
       "   date                                               text keywords  \\\n",
       "0  date  Between MN 93; North 5th Street and US 169 (ne...       NA   \n",
       "1  date  Between US 169 (Le Sueur) and MN 19; North 5th...       NA   \n",
       "2  date  At Fern Street North (Cambridge). The road is ...       NA   \n",
       "3  date  Between 220th Avenue and 230th Avenue (Halstad...       NA   \n",
       "4  date  Between North Dakota State Line (Oslo) and 470...       NA   \n",
       "\n",
       "                                            location source  \n",
       "0  [('North 5th Street', 'GPE'), ('Henderson', 'G...  mn511  \n",
       "1                                    [('US', 'GPE')]  mn511  \n",
       "2                                                 []  mn511  \n",
       "3                                                 []  mn511  \n",
       "4  [('North Dakota', 'GPE'), ('Oslo', 'GPE'), ('A...  mn511  "
      ]
     },
     "execution_count": 61,
     "metadata": {},
     "output_type": "execute_result"
    }
   ],
   "source": [
    "mn511 = mn511[['date','text', 'keywords', 'location', 'source']]\n",
    "mn511.head()"
   ]
  },
  {
   "cell_type": "markdown",
   "metadata": {},
   "source": [
    "### News API"
   ]
  },
  {
   "cell_type": "code",
   "execution_count": 62,
   "metadata": {},
   "outputs": [
    {
     "data": {
      "text/plain": [
       "Index(['publishedAt', 'content', 'locations_and_times'], dtype='object')"
      ]
     },
     "execution_count": 62,
     "metadata": {},
     "output_type": "execute_result"
    }
   ],
   "source": [
    "newsapi.columns"
   ]
  },
  {
   "cell_type": "code",
   "execution_count": 63,
   "metadata": {},
   "outputs": [
    {
     "data": {
      "text/html": [
       "<div>\n",
       "<style scoped>\n",
       "    .dataframe tbody tr th:only-of-type {\n",
       "        vertical-align: middle;\n",
       "    }\n",
       "\n",
       "    .dataframe tbody tr th {\n",
       "        vertical-align: top;\n",
       "    }\n",
       "\n",
       "    .dataframe thead th {\n",
       "        text-align: right;\n",
       "    }\n",
       "</style>\n",
       "<table border=\"1\" class=\"dataframe\">\n",
       "  <thead>\n",
       "    <tr style=\"text-align: right;\">\n",
       "      <th></th>\n",
       "      <th>date</th>\n",
       "      <th>text</th>\n",
       "      <th>location</th>\n",
       "    </tr>\n",
       "  </thead>\n",
       "  <tbody>\n",
       "    <tr>\n",
       "      <th>0</th>\n",
       "      <td>2019-04-04T11:48:00Z</td>\n",
       "      <td>Spaceflight company SpaceX test-fired the engi...</td>\n",
       "      <td>[('Wednesday', 'DATE'), ('Boca Chica', 'GPE'),...</td>\n",
       "    </tr>\n",
       "  </tbody>\n",
       "</table>\n",
       "</div>"
      ],
      "text/plain": [
       "                   date                                               text  \\\n",
       "0  2019-04-04T11:48:00Z  Spaceflight company SpaceX test-fired the engi...   \n",
       "\n",
       "                                            location  \n",
       "0  [('Wednesday', 'DATE'), ('Boca Chica', 'GPE'),...  "
      ]
     },
     "execution_count": 63,
     "metadata": {},
     "output_type": "execute_result"
    }
   ],
   "source": [
    "new_columns_dict = {\n",
    "        'publishedAt':'date',\n",
    "        'content': 'text',\n",
    "        'locations_and_times': 'location'    \n",
    "}\n",
    "\n",
    "newsapi.rename(columns=new_columns_dict, inplace=True)\n",
    "newsapi.head(1)"
   ]
  },
  {
   "cell_type": "code",
   "execution_count": 64,
   "metadata": {},
   "outputs": [],
   "source": [
    "newsapi['source'] = 'newsapi'"
   ]
  },
  {
   "cell_type": "code",
   "execution_count": 65,
   "metadata": {},
   "outputs": [],
   "source": [
    "newsapi['location'] = 'NA'\n",
    "newsapi['keywords'] = 'NA'"
   ]
  },
  {
   "cell_type": "code",
   "execution_count": 66,
   "metadata": {},
   "outputs": [
    {
     "data": {
      "text/html": [
       "<div>\n",
       "<style scoped>\n",
       "    .dataframe tbody tr th:only-of-type {\n",
       "        vertical-align: middle;\n",
       "    }\n",
       "\n",
       "    .dataframe tbody tr th {\n",
       "        vertical-align: top;\n",
       "    }\n",
       "\n",
       "    .dataframe thead th {\n",
       "        text-align: right;\n",
       "    }\n",
       "</style>\n",
       "<table border=\"1\" class=\"dataframe\">\n",
       "  <thead>\n",
       "    <tr style=\"text-align: right;\">\n",
       "      <th></th>\n",
       "      <th>date</th>\n",
       "      <th>text</th>\n",
       "      <th>location</th>\n",
       "      <th>source</th>\n",
       "      <th>keywords</th>\n",
       "    </tr>\n",
       "  </thead>\n",
       "  <tbody>\n",
       "    <tr>\n",
       "      <th>0</th>\n",
       "      <td>2019-04-04T11:48:00Z</td>\n",
       "      <td>Spaceflight company SpaceX test-fired the engi...</td>\n",
       "      <td>NA</td>\n",
       "      <td>newsapi</td>\n",
       "      <td>NA</td>\n",
       "    </tr>\n",
       "    <tr>\n",
       "      <th>1</th>\n",
       "      <td>2019-03-31T12:12:35Z</td>\n",
       "      <td>A forest fire in Burlington County has grown t...</td>\n",
       "      <td>NA</td>\n",
       "      <td>newsapi</td>\n",
       "      <td>NA</td>\n",
       "    </tr>\n",
       "    <tr>\n",
       "      <th>2</th>\n",
       "      <td>2019-04-07T06:36:00Z</td>\n",
       "      <td>The ban on civilian traffic on the national hi...</td>\n",
       "      <td>NA</td>\n",
       "      <td>newsapi</td>\n",
       "      <td>NA</td>\n",
       "    </tr>\n",
       "    <tr>\n",
       "      <th>3</th>\n",
       "      <td>2019-04-06T22:24:00Z</td>\n",
       "      <td>Electricity has been mostly restored on Vancou...</td>\n",
       "      <td>NA</td>\n",
       "      <td>newsapi</td>\n",
       "      <td>NA</td>\n",
       "    </tr>\n",
       "    <tr>\n",
       "      <th>4</th>\n",
       "      <td>2019-04-07T20:06:52Z</td>\n",
       "      <td>Officials at Kruger National Park in South Afr...</td>\n",
       "      <td>NA</td>\n",
       "      <td>newsapi</td>\n",
       "      <td>NA</td>\n",
       "    </tr>\n",
       "  </tbody>\n",
       "</table>\n",
       "</div>"
      ],
      "text/plain": [
       "                   date                                               text  \\\n",
       "0  2019-04-04T11:48:00Z  Spaceflight company SpaceX test-fired the engi...   \n",
       "1  2019-03-31T12:12:35Z  A forest fire in Burlington County has grown t...   \n",
       "2  2019-04-07T06:36:00Z  The ban on civilian traffic on the national hi...   \n",
       "3  2019-04-06T22:24:00Z  Electricity has been mostly restored on Vancou...   \n",
       "4  2019-04-07T20:06:52Z  Officials at Kruger National Park in South Afr...   \n",
       "\n",
       "  location   source keywords  \n",
       "0       NA  newsapi       NA  \n",
       "1       NA  newsapi       NA  \n",
       "2       NA  newsapi       NA  \n",
       "3       NA  newsapi       NA  \n",
       "4       NA  newsapi       NA  "
      ]
     },
     "execution_count": 66,
     "metadata": {},
     "output_type": "execute_result"
    }
   ],
   "source": [
    "newsapi.head()"
   ]
  },
  {
   "cell_type": "code",
   "execution_count": 67,
   "metadata": {},
   "outputs": [
    {
     "data": {
      "text/plain": [
       "Index(['date', 'text', 'location', 'source', 'keywords'], dtype='object')"
      ]
     },
     "execution_count": 67,
     "metadata": {},
     "output_type": "execute_result"
    }
   ],
   "source": [
    "newsapi.columns"
   ]
  },
  {
   "cell_type": "code",
   "execution_count": 68,
   "metadata": {},
   "outputs": [
    {
     "data": {
      "text/html": [
       "<div>\n",
       "<style scoped>\n",
       "    .dataframe tbody tr th:only-of-type {\n",
       "        vertical-align: middle;\n",
       "    }\n",
       "\n",
       "    .dataframe tbody tr th {\n",
       "        vertical-align: top;\n",
       "    }\n",
       "\n",
       "    .dataframe thead th {\n",
       "        text-align: right;\n",
       "    }\n",
       "</style>\n",
       "<table border=\"1\" class=\"dataframe\">\n",
       "  <thead>\n",
       "    <tr style=\"text-align: right;\">\n",
       "      <th></th>\n",
       "      <th>date</th>\n",
       "      <th>text</th>\n",
       "      <th>keywords</th>\n",
       "      <th>location</th>\n",
       "      <th>source</th>\n",
       "    </tr>\n",
       "  </thead>\n",
       "  <tbody>\n",
       "    <tr>\n",
       "      <th>0</th>\n",
       "      <td>2019-04-04T11:48:00Z</td>\n",
       "      <td>Spaceflight company SpaceX test-fired the engi...</td>\n",
       "      <td>NA</td>\n",
       "      <td>NA</td>\n",
       "      <td>newsapi</td>\n",
       "    </tr>\n",
       "    <tr>\n",
       "      <th>1</th>\n",
       "      <td>2019-03-31T12:12:35Z</td>\n",
       "      <td>A forest fire in Burlington County has grown t...</td>\n",
       "      <td>NA</td>\n",
       "      <td>NA</td>\n",
       "      <td>newsapi</td>\n",
       "    </tr>\n",
       "    <tr>\n",
       "      <th>2</th>\n",
       "      <td>2019-04-07T06:36:00Z</td>\n",
       "      <td>The ban on civilian traffic on the national hi...</td>\n",
       "      <td>NA</td>\n",
       "      <td>NA</td>\n",
       "      <td>newsapi</td>\n",
       "    </tr>\n",
       "    <tr>\n",
       "      <th>3</th>\n",
       "      <td>2019-04-06T22:24:00Z</td>\n",
       "      <td>Electricity has been mostly restored on Vancou...</td>\n",
       "      <td>NA</td>\n",
       "      <td>NA</td>\n",
       "      <td>newsapi</td>\n",
       "    </tr>\n",
       "    <tr>\n",
       "      <th>4</th>\n",
       "      <td>2019-04-07T20:06:52Z</td>\n",
       "      <td>Officials at Kruger National Park in South Afr...</td>\n",
       "      <td>NA</td>\n",
       "      <td>NA</td>\n",
       "      <td>newsapi</td>\n",
       "    </tr>\n",
       "  </tbody>\n",
       "</table>\n",
       "</div>"
      ],
      "text/plain": [
       "                   date                                               text  \\\n",
       "0  2019-04-04T11:48:00Z  Spaceflight company SpaceX test-fired the engi...   \n",
       "1  2019-03-31T12:12:35Z  A forest fire in Burlington County has grown t...   \n",
       "2  2019-04-07T06:36:00Z  The ban on civilian traffic on the national hi...   \n",
       "3  2019-04-06T22:24:00Z  Electricity has been mostly restored on Vancou...   \n",
       "4  2019-04-07T20:06:52Z  Officials at Kruger National Park in South Afr...   \n",
       "\n",
       "  keywords location   source  \n",
       "0       NA       NA  newsapi  \n",
       "1       NA       NA  newsapi  \n",
       "2       NA       NA  newsapi  \n",
       "3       NA       NA  newsapi  \n",
       "4       NA       NA  newsapi  "
      ]
     },
     "execution_count": 68,
     "metadata": {},
     "output_type": "execute_result"
    }
   ],
   "source": [
    "newsapi = newsapi[['date','text', 'keywords', 'location', 'source']]\n",
    "newsapi.head()"
   ]
  },
  {
   "cell_type": "markdown",
   "metadata": {},
   "source": [
    "# Merge all DataFrames"
   ]
  },
  {
   "cell_type": "code",
   "execution_count": 69,
   "metadata": {},
   "outputs": [],
   "source": [
    "df = pd.concat([tweets, mn511, newsapi], axis=0)"
   ]
  },
  {
   "cell_type": "code",
   "execution_count": 70,
   "metadata": {},
   "outputs": [
    {
     "data": {
      "text/plain": [
       "(14233, 5)"
      ]
     },
     "execution_count": 70,
     "metadata": {},
     "output_type": "execute_result"
    }
   ],
   "source": [
    "df.shape"
   ]
  },
  {
   "cell_type": "code",
   "execution_count": 71,
   "metadata": {},
   "outputs": [
    {
     "data": {
      "text/html": [
       "<div>\n",
       "<style scoped>\n",
       "    .dataframe tbody tr th:only-of-type {\n",
       "        vertical-align: middle;\n",
       "    }\n",
       "\n",
       "    .dataframe tbody tr th {\n",
       "        vertical-align: top;\n",
       "    }\n",
       "\n",
       "    .dataframe thead th {\n",
       "        text-align: right;\n",
       "    }\n",
       "</style>\n",
       "<table border=\"1\" class=\"dataframe\">\n",
       "  <thead>\n",
       "    <tr style=\"text-align: right;\">\n",
       "      <th></th>\n",
       "      <th>date</th>\n",
       "      <th>text</th>\n",
       "      <th>keywords</th>\n",
       "      <th>location</th>\n",
       "      <th>source</th>\n",
       "    </tr>\n",
       "  </thead>\n",
       "  <tbody>\n",
       "    <tr>\n",
       "      <th>0</th>\n",
       "      <td>2019-04-12 12:40:24+00:00</td>\n",
       "      <td>Crash at Hwy 12/25 south of Buffalo. Traffic i...</td>\n",
       "      <td>NaN</td>\n",
       "      <td>NA</td>\n",
       "      <td>MnDOTcentral</td>\n",
       "    </tr>\n",
       "    <tr>\n",
       "      <th>1</th>\n",
       "      <td>2019-04-12 00:05:20+00:00</td>\n",
       "      <td>WB I-94, west of Sauk Centre- closed due to du...</td>\n",
       "      <td>NaN</td>\n",
       "      <td>NA</td>\n",
       "      <td>MnDOTcentral</td>\n",
       "    </tr>\n",
       "    <tr>\n",
       "      <th>2</th>\n",
       "      <td>2019-04-11 22:30:44+00:00</td>\n",
       "      <td>No travel advised on Hwy 169 along the west si...</td>\n",
       "      <td>NaN</td>\n",
       "      <td>NA</td>\n",
       "      <td>MnDOTcentral</td>\n",
       "    </tr>\n",
       "    <tr>\n",
       "      <th>3</th>\n",
       "      <td>2019-04-11 22:17:09+00:00</td>\n",
       "      <td>No Travel Advised has been expanded to include...</td>\n",
       "      <td>#Stearns #centralMN</td>\n",
       "      <td>NA</td>\n",
       "      <td>MnDOTcentral</td>\n",
       "    </tr>\n",
       "    <tr>\n",
       "      <th>4</th>\n",
       "      <td>2019-04-11 19:49:47+00:00</td>\n",
       "      <td>No Travel Advisory issued for I-94 through @St...</td>\n",
       "      <td>NaN</td>\n",
       "      <td>NA</td>\n",
       "      <td>MnDOTcentral</td>\n",
       "    </tr>\n",
       "  </tbody>\n",
       "</table>\n",
       "</div>"
      ],
      "text/plain": [
       "                        date  \\\n",
       "0  2019-04-12 12:40:24+00:00   \n",
       "1  2019-04-12 00:05:20+00:00   \n",
       "2  2019-04-11 22:30:44+00:00   \n",
       "3  2019-04-11 22:17:09+00:00   \n",
       "4  2019-04-11 19:49:47+00:00   \n",
       "\n",
       "                                                text             keywords  \\\n",
       "0  Crash at Hwy 12/25 south of Buffalo. Traffic i...                  NaN   \n",
       "1  WB I-94, west of Sauk Centre- closed due to du...                  NaN   \n",
       "2  No travel advised on Hwy 169 along the west si...                  NaN   \n",
       "3  No Travel Advised has been expanded to include...  #Stearns #centralMN   \n",
       "4  No Travel Advisory issued for I-94 through @St...                  NaN   \n",
       "\n",
       "  location        source  \n",
       "0       NA  MnDOTcentral  \n",
       "1       NA  MnDOTcentral  \n",
       "2       NA  MnDOTcentral  \n",
       "3       NA  MnDOTcentral  \n",
       "4       NA  MnDOTcentral  "
      ]
     },
     "execution_count": 71,
     "metadata": {},
     "output_type": "execute_result"
    }
   ],
   "source": [
    "df.head()"
   ]
  },
  {
   "cell_type": "code",
   "execution_count": 72,
   "metadata": {},
   "outputs": [],
   "source": [
    "df.to_csv('./data/alldata.csv')"
   ]
  }
 ],
 "metadata": {
  "kernelspec": {
   "display_name": "Python 3",
   "language": "python",
   "name": "python3"
  },
  "language_info": {
   "codemirror_mode": {
    "name": "ipython",
    "version": 3
   },
   "file_extension": ".py",
   "mimetype": "text/x-python",
   "name": "python",
   "nbconvert_exporter": "python",
   "pygments_lexer": "ipython3",
   "version": "3.6.8"
  }
 },
 "nbformat": 4,
 "nbformat_minor": 2
}

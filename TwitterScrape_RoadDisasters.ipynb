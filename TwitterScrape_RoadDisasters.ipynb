{
 "cells": [
  {
   "cell_type": "markdown",
   "metadata": {},
   "source": [
    "# Twitter Scrape"
   ]
  },
  {
   "cell_type": "markdown",
   "metadata": {},
   "source": [
    "### Import Libraries"
   ]
  },
  {
   "cell_type": "code",
   "execution_count": 22,
   "metadata": {
    "scrolled": true
   },
   "outputs": [
    {
     "name": "stdout",
     "output_type": "stream",
     "text": [
      "/Users/jasminevasandani/DSI/Projects/group_project4/GetOldTweets3\n"
     ]
    }
   ],
   "source": [
    "import pandas as pd\n",
    "import tweepy\n",
    "%cd './GetOldTweets3'\n",
    "#!pip install -r requirements.txt\n",
    "import GetOldTweets3 as got"
   ]
  },
  {
   "cell_type": "code",
   "execution_count": 24,
   "metadata": {},
   "outputs": [
    {
     "name": "stdout",
     "output_type": "stream",
     "text": [
      "/Users/jasminevasandani/DSI/Projects/group_project4\n"
     ]
    }
   ],
   "source": [
    "%cd '..'"
   ]
  },
  {
   "cell_type": "markdown",
   "metadata": {},
   "source": [
    "### Add Tweepy OAuth Keys"
   ]
  },
  {
   "cell_type": "code",
   "execution_count": 2,
   "metadata": {},
   "outputs": [],
   "source": [
    "consumer_key = ''\n",
    "consumer_secret = ''\n",
    "\n",
    "access_token = ''\n",
    "access_token_secret = ''"
   ]
  },
  {
   "cell_type": "markdown",
   "metadata": {},
   "source": [
    "### Instantiate Tweepy"
   ]
  },
  {
   "cell_type": "code",
   "execution_count": 3,
   "metadata": {},
   "outputs": [],
   "source": [
    "auth = tweepy.OAuthHandler(consumer_key, consumer_secret)\n",
    "auth.set_access_token(access_token, access_token_secret)\n",
    "\n",
    "api = tweepy.API(auth, wait_on_rate_limit_notify=True)"
   ]
  },
  {
   "cell_type": "markdown",
   "metadata": {},
   "source": [
    "### I created a Twitter Account @RClosures and followed all official transportation agencies, focusing specifically on Minnesota (they experience regular road closures due to severe weather conditions)"
   ]
  },
  {
   "cell_type": "code",
   "execution_count": 4,
   "metadata": {},
   "outputs": [
    {
     "data": {
      "text/plain": [
       "['MnDOTcentral',\n",
       " 'mndotsoutheast',\n",
       " 'mndotwcentral',\n",
       " 'mndotscentral',\n",
       " 'MnDOTnorthwest',\n",
       " 'MnDPS_MSP',\n",
       " 'MnDOTnews',\n",
       " 'MnDOTtraffic']"
      ]
     },
     "execution_count": 4,
     "metadata": {},
     "output_type": "execute_result"
    }
   ],
   "source": [
    "# Get info from @RClosures\n",
    "user = api.get_user('rclosures')\n",
    "\n",
    "# Create empty list to store all accounts followed by @RClosures\n",
    "mn_accounts = []\n",
    "\n",
    "# Loop through all accounts I follow and add their screen names to the empty list above\n",
    "for friend in user.friends():\n",
    "    mn_accounts.append(friend.screen_name)\n",
    "\n",
    "# Show list\n",
    "mn_accounts"
   ]
  },
  {
   "cell_type": "markdown",
   "metadata": {},
   "source": [
    "# Scrape Tweets using [GOT](https://github.com/Jefferson-Henrique/GetOldTweets-python) \n",
    "(hat tip: Haya Toumy)"
   ]
  },
  {
   "cell_type": "markdown",
   "metadata": {},
   "source": [
    "### MN Official Accounts"
   ]
  },
  {
   "cell_type": "code",
   "execution_count": 48,
   "metadata": {},
   "outputs": [
    {
     "name": "stdout",
     "output_type": "stream",
     "text": [
      "Shape of DataFrame: (13219, 6)\n"
     ]
    },
    {
     "data": {
      "text/html": [
       "<div>\n",
       "<style scoped>\n",
       "    .dataframe tbody tr th:only-of-type {\n",
       "        vertical-align: middle;\n",
       "    }\n",
       "\n",
       "    .dataframe tbody tr th {\n",
       "        vertical-align: top;\n",
       "    }\n",
       "\n",
       "    .dataframe thead th {\n",
       "        text-align: right;\n",
       "    }\n",
       "</style>\n",
       "<table border=\"1\" class=\"dataframe\">\n",
       "  <thead>\n",
       "    <tr style=\"text-align: right;\">\n",
       "      <th></th>\n",
       "      <th>date</th>\n",
       "      <th>geo</th>\n",
       "      <th>hashtags</th>\n",
       "      <th>text</th>\n",
       "      <th>type</th>\n",
       "      <th>username</th>\n",
       "    </tr>\n",
       "  </thead>\n",
       "  <tbody>\n",
       "    <tr>\n",
       "      <th>0</th>\n",
       "      <td>2019-04-12 12:40:24+00:00</td>\n",
       "      <td></td>\n",
       "      <td></td>\n",
       "      <td>Crash at Hwy 12/25 south of Buffalo. Traffic i...</td>\n",
       "      <td>official</td>\n",
       "      <td>MnDOTcentral</td>\n",
       "    </tr>\n",
       "    <tr>\n",
       "      <th>1</th>\n",
       "      <td>2019-04-12 00:05:20+00:00</td>\n",
       "      <td></td>\n",
       "      <td></td>\n",
       "      <td>WB I-94, west of Sauk Centre- closed due to du...</td>\n",
       "      <td>official</td>\n",
       "      <td>MnDOTcentral</td>\n",
       "    </tr>\n",
       "    <tr>\n",
       "      <th>2</th>\n",
       "      <td>2019-04-11 22:30:44+00:00</td>\n",
       "      <td></td>\n",
       "      <td></td>\n",
       "      <td>No travel advised on Hwy 169 along the west si...</td>\n",
       "      <td>official</td>\n",
       "      <td>MnDOTcentral</td>\n",
       "    </tr>\n",
       "    <tr>\n",
       "      <th>3</th>\n",
       "      <td>2019-04-11 22:17:09+00:00</td>\n",
       "      <td></td>\n",
       "      <td>#Stearns #centralMN</td>\n",
       "      <td>No Travel Advised has been expanded to include...</td>\n",
       "      <td>official</td>\n",
       "      <td>MnDOTcentral</td>\n",
       "    </tr>\n",
       "    <tr>\n",
       "      <th>4</th>\n",
       "      <td>2019-04-11 19:49:47+00:00</td>\n",
       "      <td></td>\n",
       "      <td></td>\n",
       "      <td>No Travel Advisory issued for I-94 through @St...</td>\n",
       "      <td>official</td>\n",
       "      <td>MnDOTcentral</td>\n",
       "    </tr>\n",
       "  </tbody>\n",
       "</table>\n",
       "</div>"
      ],
      "text/plain": [
       "                       date geo             hashtags  \\\n",
       "0 2019-04-12 12:40:24+00:00                            \n",
       "1 2019-04-12 00:05:20+00:00                            \n",
       "2 2019-04-11 22:30:44+00:00                            \n",
       "3 2019-04-11 22:17:09+00:00      #Stearns #centralMN   \n",
       "4 2019-04-11 19:49:47+00:00                            \n",
       "\n",
       "                                                text      type      username  \n",
       "0  Crash at Hwy 12/25 south of Buffalo. Traffic i...  official  MnDOTcentral  \n",
       "1  WB I-94, west of Sauk Centre- closed due to du...  official  MnDOTcentral  \n",
       "2  No travel advised on Hwy 169 along the west si...  official  MnDOTcentral  \n",
       "3  No Travel Advised has been expanded to include...  official  MnDOTcentral  \n",
       "4  No Travel Advisory issued for I-94 through @St...  official  MnDOTcentral  "
      ]
     },
     "execution_count": 48,
     "metadata": {},
     "output_type": "execute_result"
    }
   ],
   "source": [
    "# Empty list to store tweets\n",
    "mn_traffic = []\n",
    "\n",
    "# For loop to scrape tweets from all usernames I specified\n",
    "for account in mn_accounts:\n",
    "    tweetCriteria = got.manager.TweetCriteria().setUsername(account).setSince(\"2016-04-01\").setUntil(\"2019-04-13\")\n",
    "    tweet = got.manager.TweetManager.getTweets(tweetCriteria)\n",
    "    for i in range(len(tweet)):\n",
    "        tweet_dict = {}\n",
    "        tweet_dict['username'] = tweet[i].username\n",
    "        tweet_dict['date'] = tweet[i].date\n",
    "        tweet_dict['text'] = tweet[i].text\n",
    "        tweet_dict['hashtags'] = tweet[i].hashtags\n",
    "        tweet_dict['geo'] = tweet[i].geo\n",
    "        tweet_dict['type'] = 'official'\n",
    "        mn_traffic.append(tweet_dict)\n",
    "\n",
    "# Store tweets in DataFrame\n",
    "df_mn_official = pd.DataFrame(mn_traffic)\n",
    "\n",
    "print(\"Shape of DataFrame:\", df_mn_official.shape)\n",
    "df_mn_official.head()"
   ]
  },
  {
   "cell_type": "markdown",
   "metadata": {},
   "source": [
    "### Save to csv"
   ]
  },
  {
   "cell_type": "code",
   "execution_count": 49,
   "metadata": {},
   "outputs": [
    {
     "name": "stdout",
     "output_type": "stream",
     "text": [
      "/Users/jasminevasandani/DSI/Projects/group_project4\n"
     ]
    }
   ],
   "source": [
    "# Save data to csv\n",
    "#df_mn_official.to_csv('./data/twitter_mn_official.csv')"
   ]
  },
  {
   "cell_type": "markdown",
   "metadata": {},
   "source": [
    "### Sample Tweets"
   ]
  },
  {
   "cell_type": "code",
   "execution_count": 54,
   "metadata": {},
   "outputs": [
    {
     "data": {
      "text/plain": [
       "'Hwy 95 at Fanny Lake Road just east of Cambridge - closed due at crash. Traffic is being detoured. Expect delays.'"
      ]
     },
     "execution_count": 54,
     "metadata": {},
     "output_type": "execute_result"
    }
   ],
   "source": [
    "df_mn_official.loc[20]['text']"
   ]
  },
  {
   "cell_type": "code",
   "execution_count": 55,
   "metadata": {},
   "outputs": [
    {
     "data": {
      "text/plain": [
       "'Hwy47 south of Malmo and north of Glen in Aitkin County - water on the road.'"
      ]
     },
     "execution_count": 55,
     "metadata": {},
     "output_type": "execute_result"
    }
   ],
   "source": [
    "df_mn_official.loc[30]['text']"
   ]
  },
  {
   "cell_type": "code",
   "execution_count": 56,
   "metadata": {
    "scrolled": true
   },
   "outputs": [
    {
     "data": {
      "text/plain": [
       "'I-94 intermittent lane closures in Albertville and St. Michael are rescheduled to March 6. Closures begin at 7 p.m., will be complete by 10 p.m. The schedule is weather dependent. Check http://www. 511mn.org for real-time travel information.'"
      ]
     },
     "execution_count": 56,
     "metadata": {},
     "output_type": "execute_result"
    }
   ],
   "source": [
    "df_mn_official.loc[40]['text']"
   ]
  },
  {
   "cell_type": "markdown",
   "metadata": {},
   "source": [
    "Philip's code"
   ]
  },
  {
   "cell_type": "code",
   "execution_count": 2,
   "metadata": {},
   "outputs": [
    {
     "name": "stdout",
     "output_type": "stream",
     "text": [
      "Requirement already satisfied: spacy in /anaconda3/lib/python3.6/site-packages (2.0.16)\n",
      "Requirement already satisfied: numpy>=1.15.0 in /anaconda3/lib/python3.6/site-packages (from spacy) (1.16.2)\n",
      "Requirement already satisfied: msgpack-numpy<0.4.4 in /anaconda3/lib/python3.6/site-packages (from spacy) (0.4.3.2)\n",
      "Requirement already satisfied: murmurhash<1.1.0,>=0.28.0 in /anaconda3/lib/python3.6/site-packages (from spacy) (1.0.1)\n",
      "Requirement already satisfied: cymem<2.1.0,>=2.0.2 in /anaconda3/lib/python3.6/site-packages (from spacy) (2.0.2)\n",
      "Requirement already satisfied: preshed<2.1.0,>=2.0.1 in /anaconda3/lib/python3.6/site-packages (from spacy) (2.0.1)\n",
      "Requirement already satisfied: thinc<6.13.0,>=6.12.0 in /anaconda3/lib/python3.6/site-packages (from spacy) (6.12.1)\n",
      "Requirement already satisfied: plac<1.0.0,>=0.9.6 in /anaconda3/lib/python3.6/site-packages (from spacy) (0.9.6)\n",
      "Requirement already satisfied: ujson>=1.35 in /anaconda3/lib/python3.6/site-packages (from spacy) (1.35)\n",
      "Requirement already satisfied: dill<0.3,>=0.2 in /anaconda3/lib/python3.6/site-packages (from spacy) (0.2.8.2)\n",
      "Requirement already satisfied: regex==2018.01.10 in /anaconda3/lib/python3.6/site-packages (from spacy) (2018.1.10)\n",
      "Requirement already satisfied: requests<3.0.0,>=2.13.0 in /anaconda3/lib/python3.6/site-packages (from spacy) (2.21.0)\n",
      "Requirement already satisfied: msgpack>=0.3.0 in /anaconda3/lib/python3.6/site-packages (from msgpack-numpy<0.4.4->spacy) (0.5.6)\n",
      "Requirement already satisfied: cytoolz<0.10,>=0.9.0 in /anaconda3/lib/python3.6/site-packages (from thinc<6.13.0,>=6.12.0->spacy) (0.9.0.1)\n",
      "Requirement already satisfied: wrapt<1.11.0,>=1.10.0 in /anaconda3/lib/python3.6/site-packages (from thinc<6.13.0,>=6.12.0->spacy) (1.10.11)\n",
      "Requirement already satisfied: tqdm<5.0.0,>=4.10.0 in /anaconda3/lib/python3.6/site-packages (from thinc<6.13.0,>=6.12.0->spacy) (4.28.1)\n",
      "Requirement already satisfied: six<2.0.0,>=1.10.0 in /anaconda3/lib/python3.6/site-packages (from thinc<6.13.0,>=6.12.0->spacy) (1.12.0)\n",
      "Requirement already satisfied: urllib3<1.25,>=1.21.1 in /anaconda3/lib/python3.6/site-packages (from requests<3.0.0,>=2.13.0->spacy) (1.24.1)\n",
      "Requirement already satisfied: certifi>=2017.4.17 in /anaconda3/lib/python3.6/site-packages (from requests<3.0.0,>=2.13.0->spacy) (2019.3.9)\n",
      "Requirement already satisfied: chardet<3.1.0,>=3.0.2 in /anaconda3/lib/python3.6/site-packages (from requests<3.0.0,>=2.13.0->spacy) (3.0.4)\n",
      "Requirement already satisfied: idna<2.9,>=2.5 in /anaconda3/lib/python3.6/site-packages (from requests<3.0.0,>=2.13.0->spacy) (2.8)\n",
      "Requirement already satisfied: toolz>=0.8.0 in /anaconda3/lib/python3.6/site-packages (from cytoolz<0.10,>=0.9.0->thinc<6.13.0,>=6.12.0->spacy) (0.9.0)\n"
     ]
    }
   ],
   "source": [
    "!pip install spacy\n",
    "#python -m spacy download en_core_web_sm this get run in terminal\n",
    "import en_core_web_sm\n",
    "nlp = en_core_web_sm.load()\n",
    "#https://github.com/explosion/spaCy/issues/1283\n",
    "import nltk\n",
    "from nltk.tokenize import word_tokenize\n",
    "from nltk.tag import pos_tag\n",
    "import spacy\n",
    "from spacy import displacy\n",
    "from collections import Counter\n",
    "import en_core_web_sm\n",
    "nlp = en_core_web_sm.load()\n",
    "from pprint import pprint"
   ]
  },
  {
   "cell_type": "code",
   "execution_count": null,
   "metadata": {},
   "outputs": [],
   "source": [
    "locations = []\n",
    "for i in news_all_df['content']:\n",
    "   doc = nlp(i)\n",
    "   #pprint([(X.text, X.label_) for X in doc.ents])\n",
    "   locations.append([(X.text, X.label_) for X in doc.ents])"
   ]
  }
 ],
 "metadata": {
  "kernelspec": {
   "display_name": "Python 3",
   "language": "python",
   "name": "python3"
  },
  "language_info": {
   "codemirror_mode": {
    "name": "ipython",
    "version": 3
   },
   "file_extension": ".py",
   "mimetype": "text/x-python",
   "name": "python",
   "nbconvert_exporter": "python",
   "pygments_lexer": "ipython3",
   "version": "3.6.8"
  }
 },
 "nbformat": 4,
 "nbformat_minor": 2
}

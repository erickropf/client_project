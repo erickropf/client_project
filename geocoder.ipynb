{
 "cells": [
  {
   "cell_type": "code",
   "execution_count": 1,
   "metadata": {},
   "outputs": [],
   "source": [
    "import pandas as pd\n",
    "import re  # regex library\n"
   ]
  },
  {
   "cell_type": "code",
   "execution_count": 2,
   "metadata": {},
   "outputs": [],
   "source": [
    "data = pd.read_csv('./data/alldata.csv')"
   ]
  },
  {
   "cell_type": "markdown",
   "metadata": {},
   "source": [
    "Drop extra index Unnamed"
   ]
  },
  {
   "cell_type": "code",
   "execution_count": 3,
   "metadata": {},
   "outputs": [],
   "source": [
    "data.drop(columns='Unnamed: 0', inplace=True)"
   ]
  },
  {
   "cell_type": "markdown",
   "metadata": {},
   "source": [
    "Check data types"
   ]
  },
  {
   "cell_type": "code",
   "execution_count": 4,
   "metadata": {},
   "outputs": [
    {
     "data": {
      "text/plain": [
       "date        object\n",
       "text        object\n",
       "keywords    object\n",
       "location    object\n",
       "source      object\n",
       "dtype: object"
      ]
     },
     "execution_count": 4,
     "metadata": {},
     "output_type": "execute_result"
    }
   ],
   "source": [
    "data.dtypes"
   ]
  },
  {
   "cell_type": "code",
   "execution_count": 5,
   "metadata": {},
   "outputs": [],
   "source": [
    "#Strip off the nanoseconds and convert to datetime"
   ]
  },
  {
   "cell_type": "code",
   "execution_count": 6,
   "metadata": {},
   "outputs": [],
   "source": [
    "#data['date']=data['date'].map({'+00:00':''})"
   ]
  },
  {
   "cell_type": "code",
   "execution_count": 7,
   "metadata": {},
   "outputs": [],
   "source": [
    "#data['date']=pd.to_datetime(data['date'])"
   ]
  },
  {
   "cell_type": "code",
   "execution_count": 8,
   "metadata": {},
   "outputs": [],
   "source": [
    "#data.set_index('date', inplace = True)\n"
   ]
  },
  {
   "cell_type": "code",
   "execution_count": 9,
   "metadata": {},
   "outputs": [
    {
     "data": {
      "text/plain": [
       "(14233, 5)"
      ]
     },
     "execution_count": 9,
     "metadata": {},
     "output_type": "execute_result"
    }
   ],
   "source": [
    "data.shape\n",
    "\n"
   ]
  },
  {
   "cell_type": "code",
   "execution_count": 10,
   "metadata": {},
   "outputs": [
    {
     "name": "stdout",
     "output_type": "stream",
     "text": [
      "<class 'pandas.core.frame.DataFrame'>\n",
      "RangeIndex: 14233 entries, 0 to 14232\n",
      "Data columns (total 5 columns):\n",
      "date        14233 non-null object\n",
      "text        14232 non-null object\n",
      "keywords    3843 non-null object\n",
      "location    14 non-null object\n",
      "source      14233 non-null object\n",
      "dtypes: object(5)\n",
      "memory usage: 556.1+ KB\n"
     ]
    }
   ],
   "source": [
    "data.info()"
   ]
  },
  {
   "cell_type": "code",
   "execution_count": 11,
   "metadata": {},
   "outputs": [
    {
     "data": {
      "text/plain": [
       "MnDOTnews         4929\n",
       "mndotsoutheast    2908\n",
       "MnDPS_MSP         2675\n",
       "mndotscentral     1221\n",
       "newsapi           1000\n",
       "MnDOTcentral       712\n",
       "mndotwcentral      306\n",
       "MnDOTnorthwest     255\n",
       "MnDOTtraffic       213\n",
       "mn511               14\n",
       "Name: source, dtype: int64"
      ]
     },
     "execution_count": 11,
     "metadata": {},
     "output_type": "execute_result"
    }
   ],
   "source": [
    "data.source.value_counts()"
   ]
  },
  {
   "cell_type": "markdown",
   "metadata": {},
   "source": [
    "Team decided to consolidate the sources, since most were from one place"
   ]
  },
  {
   "cell_type": "code",
   "execution_count": 12,
   "metadata": {},
   "outputs": [],
   "source": [
    "data['source'] = data['source'].map({'MnDOTnews': 'twitter', \n",
    "                                 'mndotsoutheast': 'twitter',\n",
    "                                 'MnDPS_MSP': 'twitter',\n",
    "                                 'mndotscentral': 'twitter',\n",
    "                                 'MnDOTcentral': 'twitter',\n",
    "                                 'mndotwcentral': 'twitter',\n",
    "                                 'MnDOTnorthwest': 'twitter',\n",
    "                                 'MnDOTtraffic': 'twitter',\n",
    "                                 'mn511': 'mn511',\n",
    "                                 'newsapi': 'newsapi'\n",
    "                                 \n",
    "                                })"
   ]
  },
  {
   "cell_type": "code",
   "execution_count": 13,
   "metadata": {},
   "outputs": [
    {
     "data": {
      "text/plain": [
       "twitter    13219\n",
       "newsapi     1000\n",
       "mn511         14\n",
       "Name: source, dtype: int64"
      ]
     },
     "execution_count": 13,
     "metadata": {},
     "output_type": "execute_result"
    }
   ],
   "source": [
    "data.source.value_counts()"
   ]
  },
  {
   "cell_type": "code",
   "execution_count": 14,
   "metadata": {},
   "outputs": [
    {
     "data": {
      "text/html": [
       "<div>\n",
       "<style scoped>\n",
       "    .dataframe tbody tr th:only-of-type {\n",
       "        vertical-align: middle;\n",
       "    }\n",
       "\n",
       "    .dataframe tbody tr th {\n",
       "        vertical-align: top;\n",
       "    }\n",
       "\n",
       "    .dataframe thead th {\n",
       "        text-align: right;\n",
       "    }\n",
       "</style>\n",
       "<table border=\"1\" class=\"dataframe\">\n",
       "  <thead>\n",
       "    <tr style=\"text-align: right;\">\n",
       "      <th></th>\n",
       "      <th>date</th>\n",
       "      <th>text</th>\n",
       "      <th>keywords</th>\n",
       "      <th>location</th>\n",
       "      <th>source</th>\n",
       "    </tr>\n",
       "  </thead>\n",
       "  <tbody>\n",
       "    <tr>\n",
       "      <th>0</th>\n",
       "      <td>2019-04-12 12:40:24+00:00</td>\n",
       "      <td>Crash at Hwy 12/25 south of Buffalo. Traffic i...</td>\n",
       "      <td>NaN</td>\n",
       "      <td>NaN</td>\n",
       "      <td>twitter</td>\n",
       "    </tr>\n",
       "    <tr>\n",
       "      <th>1</th>\n",
       "      <td>2019-04-12 00:05:20+00:00</td>\n",
       "      <td>WB I-94, west of Sauk Centre- closed due to du...</td>\n",
       "      <td>NaN</td>\n",
       "      <td>NaN</td>\n",
       "      <td>twitter</td>\n",
       "    </tr>\n",
       "    <tr>\n",
       "      <th>2</th>\n",
       "      <td>2019-04-11 22:30:44+00:00</td>\n",
       "      <td>No travel advised on Hwy 169 along the west si...</td>\n",
       "      <td>NaN</td>\n",
       "      <td>NaN</td>\n",
       "      <td>twitter</td>\n",
       "    </tr>\n",
       "    <tr>\n",
       "      <th>3</th>\n",
       "      <td>2019-04-11 22:17:09+00:00</td>\n",
       "      <td>No Travel Advised has been expanded to include...</td>\n",
       "      <td>#Stearns #centralMN</td>\n",
       "      <td>NaN</td>\n",
       "      <td>twitter</td>\n",
       "    </tr>\n",
       "    <tr>\n",
       "      <th>4</th>\n",
       "      <td>2019-04-11 19:49:47+00:00</td>\n",
       "      <td>No Travel Advisory issued for I-94 through @St...</td>\n",
       "      <td>NaN</td>\n",
       "      <td>NaN</td>\n",
       "      <td>twitter</td>\n",
       "    </tr>\n",
       "    <tr>\n",
       "      <th>5</th>\n",
       "      <td>2019-04-11 17:21:30+00:00</td>\n",
       "      <td>I-94 Clearwater to St. Cloud - all lanes are n...</td>\n",
       "      <td>#centralMN</td>\n",
       "      <td>NaN</td>\n",
       "      <td>twitter</td>\n",
       "    </tr>\n",
       "    <tr>\n",
       "      <th>6</th>\n",
       "      <td>2019-04-11 16:41:28+00:00</td>\n",
       "      <td>I-94 Clearwater to St. Cloud - both directions...</td>\n",
       "      <td>NaN</td>\n",
       "      <td>NaN</td>\n",
       "      <td>twitter</td>\n",
       "    </tr>\n",
       "    <tr>\n",
       "      <th>7</th>\n",
       "      <td>2019-04-11 14:26:49+00:00</td>\n",
       "      <td>Eastbound I-94 Monticello to Albertville - all...</td>\n",
       "      <td>#centralMN</td>\n",
       "      <td>NaN</td>\n",
       "      <td>twitter</td>\n",
       "    </tr>\n",
       "    <tr>\n",
       "      <th>8</th>\n",
       "      <td>2019-04-11 12:33:31+00:00</td>\n",
       "      <td>Hazardous driving conditions with ice covered ...</td>\n",
       "      <td>#Sherburne</td>\n",
       "      <td>NaN</td>\n",
       "      <td>twitter</td>\n",
       "    </tr>\n",
       "    <tr>\n",
       "      <th>9</th>\n",
       "      <td>2019-04-11 10:32:42+00:00</td>\n",
       "      <td>Eastbound I-94 Monticello to Albertville - clo...</td>\n",
       "      <td>NaN</td>\n",
       "      <td>NaN</td>\n",
       "      <td>twitter</td>\n",
       "    </tr>\n",
       "  </tbody>\n",
       "</table>\n",
       "</div>"
      ],
      "text/plain": [
       "                        date  \\\n",
       "0  2019-04-12 12:40:24+00:00   \n",
       "1  2019-04-12 00:05:20+00:00   \n",
       "2  2019-04-11 22:30:44+00:00   \n",
       "3  2019-04-11 22:17:09+00:00   \n",
       "4  2019-04-11 19:49:47+00:00   \n",
       "5  2019-04-11 17:21:30+00:00   \n",
       "6  2019-04-11 16:41:28+00:00   \n",
       "7  2019-04-11 14:26:49+00:00   \n",
       "8  2019-04-11 12:33:31+00:00   \n",
       "9  2019-04-11 10:32:42+00:00   \n",
       "\n",
       "                                                text             keywords  \\\n",
       "0  Crash at Hwy 12/25 south of Buffalo. Traffic i...                  NaN   \n",
       "1  WB I-94, west of Sauk Centre- closed due to du...                  NaN   \n",
       "2  No travel advised on Hwy 169 along the west si...                  NaN   \n",
       "3  No Travel Advised has been expanded to include...  #Stearns #centralMN   \n",
       "4  No Travel Advisory issued for I-94 through @St...                  NaN   \n",
       "5  I-94 Clearwater to St. Cloud - all lanes are n...           #centralMN   \n",
       "6  I-94 Clearwater to St. Cloud - both directions...                  NaN   \n",
       "7  Eastbound I-94 Monticello to Albertville - all...           #centralMN   \n",
       "8  Hazardous driving conditions with ice covered ...           #Sherburne   \n",
       "9  Eastbound I-94 Monticello to Albertville - clo...                  NaN   \n",
       "\n",
       "  location   source  \n",
       "0      NaN  twitter  \n",
       "1      NaN  twitter  \n",
       "2      NaN  twitter  \n",
       "3      NaN  twitter  \n",
       "4      NaN  twitter  \n",
       "5      NaN  twitter  \n",
       "6      NaN  twitter  \n",
       "7      NaN  twitter  \n",
       "8      NaN  twitter  \n",
       "9      NaN  twitter  "
      ]
     },
     "execution_count": 14,
     "metadata": {},
     "output_type": "execute_result"
    }
   ],
   "source": [
    "data.head(10)"
   ]
  },
  {
   "cell_type": "code",
   "execution_count": 16,
   "metadata": {},
   "outputs": [],
   "source": [
    "#data['date'] = pd.to_datetime(data['date'])"
   ]
  },
  {
   "cell_type": "code",
   "execution_count": 17,
   "metadata": {},
   "outputs": [],
   "source": [
    "mask_road = data['text'].str.contains('road'or'street', regex=False, case=False)\n",
    "mask_closed = data['text'].str.contains('closed'or'blocked', regex=False, case=False)\n",
    "df = data[mask_road & mask_closed]\n"
   ]
  },
  {
   "cell_type": "code",
   "execution_count": 18,
   "metadata": {},
   "outputs": [
    {
     "data": {
      "text/plain": [
       "(300, 5)"
      ]
     },
     "execution_count": 18,
     "metadata": {},
     "output_type": "execute_result"
    }
   ],
   "source": [
    "df.shape"
   ]
  },
  {
   "cell_type": "code",
   "execution_count": 19,
   "metadata": {},
   "outputs": [
    {
     "data": {
      "text/plain": [
       "'I-94 Clearwater to St. Cloud - both directions closed due to semi crashes. Roads are icy or compacted, with very high winds. Postpone travel if possible.'"
      ]
     },
     "execution_count": 19,
     "metadata": {},
     "output_type": "execute_result"
    }
   ],
   "source": [
    "df['text'][6]"
   ]
  },
  {
   "cell_type": "code",
   "execution_count": 20,
   "metadata": {},
   "outputs": [],
   "source": [
    "#pip install geocoder paste this in terminal"
   ]
  },
  {
   "cell_type": "code",
   "execution_count": 21,
   "metadata": {},
   "outputs": [
    {
     "name": "stdout",
     "output_type": "stream",
     "text": [
      "[34.05538000000007, -117.18258999999995]\n"
     ]
    }
   ],
   "source": [
    "import geocoder\n",
    "\n",
    "g = geocoder.arcgis('Redlands, CA')\n",
    "print(g.latlng)#latlng is a tuple representing latitude and longditude\n",
    "\n"
   ]
  },
  {
   "cell_type": "code",
   "execution_count": 22,
   "metadata": {
    "scrolled": true
   },
   "outputs": [
    {
     "name": "stdout",
     "output_type": "stream",
     "text": [
      "[45.40496523447652, -94.04437592230032]\n"
     ]
    }
   ],
   "source": [
    "g = geocoder.arcgis('I 94 Clearwater, MN')\n",
    "print(g.latlng)#latlng is a tuple representing latitude and longditude\n"
   ]
  },
  {
   "cell_type": "code",
   "execution_count": 23,
   "metadata": {},
   "outputs": [
    {
     "name": "stdout",
     "output_type": "stream",
     "text": [
      "[40.635520376074794, -73.74139376019966]\n"
     ]
    }
   ],
   "source": [
    "g = geocoder.arcgis('10 E23rd St, New York, NY')\n",
    "print(g.latlng)#latlng is a tuple representing latitude and longditude"
   ]
  },
  {
   "cell_type": "code",
   "execution_count": 24,
   "metadata": {},
   "outputs": [
    {
     "name": "stdout",
     "output_type": "stream",
     "text": [
      "[40.660208999999995, -73.99458]\n"
     ]
    }
   ],
   "source": [
    "g = geocoder.arcgis('5th Ave and 23rd St, New York, NY')\n",
    "print(g.latlng)#latlng is a tuple representing latitude and longditude"
   ]
  },
  {
   "cell_type": "code",
   "execution_count": 25,
   "metadata": {},
   "outputs": [
    {
     "name": "stdout",
     "output_type": "stream",
     "text": [
      "[45.56586000000004, -94.19751999999994]\n"
     ]
    }
   ],
   "source": [
    "g = geocoder.arcgis('St.Cloud, MN')\n",
    "print(g.latlng)"
   ]
  },
  {
   "cell_type": "code",
   "execution_count": 26,
   "metadata": {},
   "outputs": [
    {
     "name": "stdout",
     "output_type": "stream",
     "text": [
      "[41.256360080500855, 13.60799996335631]\n"
     ]
    }
   ],
   "source": [
    "g = geocoder.arcgis('Interstate 94')#this maybe incorrect\n",
    "print(g.latlng)"
   ]
  },
  {
   "cell_type": "code",
   "execution_count": 27,
   "metadata": {},
   "outputs": [
    {
     "name": "stdout",
     "output_type": "stream",
     "text": [
      "[-34.60789999999997, -58.73025999999999]\n"
     ]
    }
   ],
   "source": [
    "g = geocoder.arcgis('I 94')#this maybe incorrect\n",
    "print(g.latlng)"
   ]
  },
  {
   "cell_type": "code",
   "execution_count": 28,
   "metadata": {},
   "outputs": [
    {
     "name": "stdout",
     "output_type": "stream",
     "text": [
      "[-34.60789999999997, -58.73025999999999]\n"
     ]
    }
   ],
   "source": [
    "g = geocoder.arcgis('I-94')#this maybe incorrect\n",
    "print(g.latlng)"
   ]
  },
  {
   "cell_type": "code",
   "execution_count": 29,
   "metadata": {},
   "outputs": [
    {
     "name": "stdout",
     "output_type": "stream",
     "text": [
      "[46.44197934657771, -96.23760652421502]\n"
     ]
    }
   ],
   "source": [
    "g = geocoder.arcgis('I-94, MN')#this maybe incorrect\n",
    "print(g.latlng)"
   ]
  },
  {
   "cell_type": "code",
   "execution_count": 30,
   "metadata": {},
   "outputs": [
    {
     "name": "stdout",
     "output_type": "stream",
     "text": [
      "[45.72628124328748, -94.96619521064468]\n"
     ]
    }
   ],
   "source": [
    "g = geocoder.arcgis('Interstate 94 Eastbound, Stearns County Road 75')\n",
    "print(g.latlng)"
   ]
  },
  {
   "cell_type": "code",
   "execution_count": 31,
   "metadata": {},
   "outputs": [
    {
     "name": "stdout",
     "output_type": "stream",
     "text": [
      "[45.55883310433924, -93.16941508264307]\n"
     ]
    }
   ],
   "source": [
    "g = geocoder.arcgis('Fanny Lake Road, Cambridge')\n",
    "print(g.latlng)"
   ]
  },
  {
   "cell_type": "code",
   "execution_count": 32,
   "metadata": {},
   "outputs": [
    {
     "name": "stdout",
     "output_type": "stream",
     "text": [
      "[41.231598583132225, -90.13775190358274]\n"
     ]
    }
   ],
   "source": [
    "g = geocoder.arcgis('Interstate 94, Highway 4, Cambridge')# this maybe incorrect\n",
    "print(g.latlng)"
   ]
  },
  {
   "cell_type": "code",
   "execution_count": 33,
   "metadata": {},
   "outputs": [
    {
     "name": "stdout",
     "output_type": "stream",
     "text": [
      "[45.628820000000076, -94.75394999999997]\n"
     ]
    }
   ],
   "source": [
    "g = geocoder.arcgis('New Munich')\n",
    "print(g.latlng)"
   ]
  },
  {
   "cell_type": "code",
   "execution_count": 34,
   "metadata": {},
   "outputs": [
    {
     "name": "stdout",
     "output_type": "stream",
     "text": [
      "[54.28971291300007, 9.781941293000045]\n"
     ]
    }
   ],
   "source": [
    "g = geocoder.arcgis('County Road 142') # this is probably incorrect\n",
    "print(g.latlng)"
   ]
  },
  {
   "cell_type": "code",
   "execution_count": 35,
   "metadata": {},
   "outputs": [
    {
     "name": "stdout",
     "output_type": "stream",
     "text": [
      "[45.94518905800004, -93.29345003299994]\n"
     ]
    }
   ],
   "source": [
    "g = geocoder.arcgis('Mille Lacs, Kanabec')\n",
    "print(g.latlng)"
   ]
  },
  {
   "cell_type": "code",
   "execution_count": 36,
   "metadata": {},
   "outputs": [
    {
     "name": "stdout",
     "output_type": "stream",
     "text": [
      "[44.720457185206186, -92.8630069211952]\n"
     ]
    }
   ],
   "source": [
    "g = geocoder.arcgis('Dakota County Road 47')\n",
    "print(g.latlng)"
   ]
  },
  {
   "cell_type": "code",
   "execution_count": 43,
   "metadata": {},
   "outputs": [
    {
     "name": "stdout",
     "output_type": "stream",
     "text": [
      "[44.16085994906796, -92.54030193326865]\n"
     ]
    }
   ],
   "source": [
    "g = geocoder.arcgis('Highway 52 Pine Island Oronoco')\n",
    "print(g.latlng)"
   ]
  },
  {
   "cell_type": "code",
   "execution_count": 44,
   "metadata": {},
   "outputs": [
    {
     "name": "stdout",
     "output_type": "stream",
     "text": [
      "[41.256360080500855, 13.60799996335631]\n"
     ]
    }
   ],
   "source": [
    "g = geocoder.arcgis('Interstate 35 Northbound')\n",
    "print(g.latlng)"
   ]
  },
  {
   "cell_type": "code",
   "execution_count": 37,
   "metadata": {},
   "outputs": [
    {
     "name": "stdout",
     "output_type": "stream",
     "text": [
      "['Hello', ',', 'world', '.', 'Here', 'are', 'two', 'sentences', '.']\n"
     ]
    }
   ],
   "source": [
    "import spacy\n",
    "\n",
    "nlp = spacy.load(\"en_core_web_sm\")\n",
    "doc = nlp(u\"Hello, world. Here are two sentences.\")\n",
    "print([t.text for t in doc])"
   ]
  },
  {
   "cell_type": "code",
   "execution_count": 38,
   "metadata": {},
   "outputs": [
    {
     "name": "stdout",
     "output_type": "stream",
     "text": [
      "San Francisco 0 13 GPE\n"
     ]
    }
   ],
   "source": [
    "import spacy\n",
    "\n",
    "nlp = spacy.load(\"en_core_web_sm\")\n",
    "doc = nlp(u\"San Francisco considers banning sidewalk delivery robots\")\n",
    "for ent in doc.ents:\n",
    "    print(ent.text, ent.start_char, ent.end_char, ent.label_)"
   ]
  },
  {
   "cell_type": "markdown",
   "metadata": {},
   "source": [
    "# Location Extraction\n",
    "\n",
    "1. [OSMxtract](https://pypi.org/project/osmxtract/)\n",
    "  - uses the Overpass API to fetch OpenStreetMap features and export them in a GeoJSON file.\n",
    "  - [OSMxtract how-to-guide](https://geoffboeing.com/2016/11/osmnx-python-street-networks/)\n",
    "\n",
    "\n",
    "2. [mordecai](https://github.com/openeventdata/mordecai)\n",
    "  - Extract the place names from a piece of text, resolve them to the correct place, and return their coordinates and structured geographic information.\n",
    "\n",
    "\n",
    "3. [Auto GIS](https://automating-gis-processes.github.io/2017/lessons/L7/network-analysis.html)\n",
    "  - Test the routing functionalities of osmnx by finding a shortest path between two points based on drivable roads.\n",
    "\n",
    "\n",
    "4. [Geo-location Python](https://github.com/slawek87/geolocation-python)\n",
    "  - This application allows you to get information about given location Application returns such information as: country, city, route/street, street number, reverse geocode, lat and lng, travel distance and time for a matrix of origins and destinations.\n",
    "  \n",
    "\n",
    "5. [pyap](https://github.com/vladimarius/pyap)\n",
    "  - for detecting and parsing addresses\n",
    "\n",
    "\n",
    "6. [geoextract](https://github.com/stadt-karlsruhe/geoextract)\n",
    "  - for extracting locations (addresses, street names, points of interest) from free-form text.\n",
    "\n",
    "\n",
    "7. [pygeocodio](https://github.com/bennylope/pygeocodio)\n",
    "  - A Python wrapper for the Geocodio geolocation service API\n",
    "\n",
    "\n",
    "8. [python-googlegeocoder](https://github.com/datadesk/python-googlegeocoder)\n",
    "  - A simple Python wrapper for version three of Google's geocoder API \n",
    "\n",
    "\n",
    "9. [geopy](https://github.com/geopy/geopy)\n",
    "  - locate the coordinates of addresses, cities, countries, and landmarks across the globe using third-party geocoders and other data sources.\n",
    "  \n",
    "  \n",
    "10. [GeoExtract](https://github.com/stadt-karlsruhe/geoextract)\n",
    "  - for extracting locations (addresses, street names, points of interest) from free-form text.\n",
    "\n",
    "\n",
    "11. [LexicalGeography](https://github.com/LambertOSU/LexicalGeography)\n",
    "  - for extracting location data from text\n",
    "\n",
    "\n",
    "12. [spacy](https://spacy.io/usage/linguistic-features)\n",
    "\n",
    "\n",
    "13. [Quora ML and NLP location extraction](https://www.quora.com/How-can-I-identify-location-from-any-text-message-using-ML-or-NLP)\n",
    "\n",
    "\n",
    "14. [TDS article question](https://towardsdatascience.com/nlp-extracting-location-from-text-aa99c55e77d5)\n",
    "\n",
    "\n",
    "15. [StackOverFlow: methods for extracting location from text](https://stackoverflow.com/questions/17762516/methods-for-extracting-locations-from-text)"
   ]
  }
 ],
 "metadata": {
  "kernelspec": {
   "display_name": "Python 3",
   "language": "python",
   "name": "python3"
  },
  "language_info": {
   "codemirror_mode": {
    "name": "ipython",
    "version": 3
   },
   "file_extension": ".py",
   "mimetype": "text/x-python",
   "name": "python",
   "nbconvert_exporter": "python",
   "pygments_lexer": "ipython3",
   "version": "3.6.8"
  }
 },
 "nbformat": 4,
 "nbformat_minor": 2
}
